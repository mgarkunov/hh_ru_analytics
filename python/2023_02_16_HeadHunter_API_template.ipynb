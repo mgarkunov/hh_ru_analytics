{
 "cells": [
  {
   "cell_type": "markdown",
   "id": "0c6ab8b3",
   "metadata": {},
   "source": [
    "## Импортируем необходимые библиотеки"
   ]
  },
  {
   "cell_type": "code",
   "execution_count": null,
   "id": "08566f98",
   "metadata": {},
   "outputs": [],
   "source": [
    "import pandas as pd\n",
    "import numpy as np\n",
    "\n",
    "import seaborn as sns\n",
    "import matplotlib\n",
    "import matplotlib.pyplot as plt\n",
    "\n",
    "import requests\n",
    "\n",
    "import calendar\n",
    "from datetime import datetime, date, timedelta\n",
    "\n",
    "import re\n",
    "\n",
    "from tqdm.notebook import tqdm\n"
   ]
  },
  {
   "cell_type": "markdown",
   "id": "c374edad",
   "metadata": {},
   "source": [
    "## Краткое описание"
   ]
  },
  {
   "cell_type": "markdown",
   "id": "f5c5c2c1",
   "metadata": {},
   "source": [
    "Итак, согласно  **HeadHunter API** документации:\n",
    "- [Github](https://github.com/hhru/api) документация\n",
    "- [OpenAPI](https://api.hh.ru/openapi/redoc) документация\n",
    "\n",
    "У нас есть несколько методов просмотра и поиска интересующих нас вакансий по сайту , но для наших целей я предлагаю обратить внимание на следующие:\n",
    "\n",
    "1. **Поиск по вакансиям**\n",
    "\t- `GET /vacancies` вернёт результаты поиска вакансий.\n",
    "\t- [Github](https://github.com/hhru/api/blob/master/docs/vacancies.md#search) документация\n",
    "    - [OpenAPI](https://api.hh.ru/openapi/redoc#tag/Poisk-vakansij) документация\n",
    "\n",
    "1. **Просмотр вакансии**\n",
    "\t - `GET /vacancies/{vacancy_id}` где `vacancy_id` – идентификатор вакансии. Вернёт подробную информацию по указанной вакансии.\n",
    "\t - [Github](https://github.com/hhru/api/blob/master/docs/vacancies.md#item) документация\n",
    "     \n",
    "1. **Поиск по компаниям**\n",
    "\t- `GET /employers`\n",
    "\t- [OpenAPI](https://api.hh.ru/openapi/redoc#tag/Rabotodatel/operation/search-employer) документация\n",
    "\n",
    "1. **Получение информации о компании**\n",
    "\t - `GET /employers/{employer_id}`\n",
    "\t- [OpenAPI] (https://api.hh.ru/openapi/redoc#tag/Rabotodatel/operation/get-employer-info) документация\n",
    "\n",
    "Исследуем данные методы"
   ]
  },
  {
   "cell_type": "markdown",
   "id": "59c58de8",
   "metadata": {},
   "source": [
    "## Блок обьявления переменных"
   ]
  },
  {
   "cell_type": "markdown",
   "id": "187f459f",
   "metadata": {},
   "source": [
    "### Определимся с наименованием должностей для поискового запроса\n",
    "\n",
    "Согласно  **HeadHunter API** документации:\n",
    "- [Github](https://github.com/hhru/api/blob/master/docs/vacancies.md#search) документация\n",
    "- [OpenAPI](https://api.hh.ru/openapi/redoc#tag/Poisk-vakansij) документация\n",
    "\n",
    "Чтобы нам осуществить поиск вакансии по должности нам необходимо в GET параметрах запроса указать:\n",
    "-   `text` — текстовое поле.  \n",
    "    Переданное значение ищется в полях вакансии, указанных в параметре `search_field`.\n",
    "    \n",
    "    [Доступен язык запросов](https://hh.ru/article/1175). \n",
    "    Специально для этого поля есть [автодополнение](https://github.com/hhru/api/blob/master/docs/suggests.md#vacancy-search-keyword)."
   ]
  },
  {
   "cell_type": "markdown",
   "id": "ad614827",
   "metadata": {},
   "source": [
    "### Рассмотрим возвожные варианты наших поисковых запросов"
   ]
  },
  {
   "cell_type": "code",
   "execution_count": null,
   "id": "a46c9f8b",
   "metadata": {},
   "outputs": [],
   "source": [
    "# 1-ая тестовая вариациия поискового запроса\n",
    "job_1 = 'Курьер' # 'Аналитик данных'\n",
    "job_1"
   ]
  },
  {
   "cell_type": "code",
   "execution_count": null,
   "id": "3a43ae8d",
   "metadata": {},
   "outputs": [],
   "source": [
    "# 2-ая тестовая вариациия поискового запроса\n",
    "job_2 = 'NAME:(Аналитик OR Analyst)'\n",
    "job_2"
   ]
  },
  {
   "cell_type": "code",
   "execution_count": null,
   "id": "07d5b1e9",
   "metadata": {},
   "outputs": [],
   "source": [
    "# 3-ая тестовая вариациия поискового запроса\n",
    "job_3 = 'COMPANY_NAME:Самокат'\n",
    "job_3"
   ]
  },
  {
   "cell_type": "code",
   "execution_count": null,
   "id": "907a83ae",
   "metadata": {},
   "outputs": [],
   "source": [
    "# список тестовых вариаций поискового запроса\n",
    "job_title = ['Аналитик данных',\n",
    "             '\"!Аналитик BI\"',\n",
    "             'Data Analyst',\n",
    "             'Аналитик*',\n",
    "             '\"Аналитик\" OR \"Analyst\"',\n",
    "             'COMPANY_NAME:  \"Самокат (ООО Умный ритейл)\"',\n",
    "             'NAME:(Аналитик OR Analyst) and COMPANY_NAME:Headhunter',\n",
    "             'NAME:(Аналитик OR Analyst) and COMPANY_NAME:Самокат',\n",
    "             'NAME:(Аналитик OR Analyst OR \"Data\" OR Курьер)',\n",
    "             'NAME:(Аналитик OR \"Data Analyst\" OR \"Инженер данных\" OR \"Data engineer\" OR \"Дата саентист\" OR \"Data Scientist\")',\n",
    "             'NAME:(Аналитик OR Курьер OR Инженер)'\n",
    "            ]\n",
    "job_title"
   ]
  },
  {
   "cell_type": "code",
   "execution_count": null,
   "id": "b8673393",
   "metadata": {},
   "outputs": [],
   "source": [
    "# как вариант выбора из нашего списка тестовых вариаций поискового запроса\n",
    "job_title[3]"
   ]
  },
  {
   "cell_type": "code",
   "execution_count": null,
   "id": "f28fd98c",
   "metadata": {},
   "outputs": [],
   "source": [
    "# Поиск по следующим параметрам должности\n",
    "job_search_field = job_title[-1]\n",
    "job_search_field"
   ]
  },
  {
   "cell_type": "markdown",
   "id": "ea855e59",
   "metadata": {},
   "source": [
    "### Сформируем даты"
   ]
  },
  {
   "cell_type": "markdown",
   "id": "ce949522",
   "metadata": {},
   "source": [
    "#### Сегодня "
   ]
  },
  {
   "cell_type": "code",
   "execution_count": null,
   "id": "8009208d",
   "metadata": {},
   "outputs": [],
   "source": [
    "today = datetime.today().strftime('%Y-%m-%d')\n",
    "today"
   ]
  },
  {
   "cell_type": "code",
   "execution_count": null,
   "id": "53880ea2",
   "metadata": {},
   "outputs": [],
   "source": [
    "today_day_sec = datetime.today().strftime('%Y-%m-%dT%H:%M:%S')\n",
    "today_day_sec"
   ]
  },
  {
   "cell_type": "code",
   "execution_count": null,
   "id": "6d46ed3d",
   "metadata": {},
   "outputs": [],
   "source": [
    "# correct, ISO-8601 (but not UTC)\n",
    "datetime.now().isoformat(timespec='seconds')"
   ]
  },
  {
   "cell_type": "markdown",
   "id": "b7c24364",
   "metadata": {},
   "source": [
    "#### Вчера"
   ]
  },
  {
   "cell_type": "code",
   "execution_count": null,
   "id": "9b4ea6ce",
   "metadata": {},
   "outputs": [],
   "source": [
    "yesterday = (date.today() - timedelta(days=1)).strftime('%Y-%m-%d')\n",
    "yesterday"
   ]
  },
  {
   "cell_type": "code",
   "execution_count": null,
   "id": "cb0ce126",
   "metadata": {},
   "outputs": [],
   "source": [
    "yesterday_sec = (datetime.today() - timedelta(days=1)).strftime('%Y-%m-%dT%H:%M:%S')\n",
    "yesterday_sec"
   ]
  },
  {
   "cell_type": "markdown",
   "id": "57b3ecfc",
   "metadata": {},
   "source": [
    "#### Год\n"
   ]
  },
  {
   "cell_type": "code",
   "execution_count": null,
   "id": "26530121",
   "metadata": {},
   "outputs": [],
   "source": [
    "year = date.today().year\n",
    "year"
   ]
  },
  {
   "cell_type": "markdown",
   "id": "05d2f161",
   "metadata": {},
   "source": [
    "#### Месяц"
   ]
  },
  {
   "cell_type": "code",
   "execution_count": null,
   "id": "c98eb678",
   "metadata": {},
   "outputs": [],
   "source": [
    "month = date.today().month\n",
    "month"
   ]
  },
  {
   "cell_type": "markdown",
   "id": "e37f2c4a",
   "metadata": {},
   "source": [
    "#### День"
   ]
  },
  {
   "cell_type": "code",
   "execution_count": null,
   "id": "4c252ede",
   "metadata": {},
   "outputs": [],
   "source": [
    "day = date.today().day\n",
    "day"
   ]
  },
  {
   "cell_type": "markdown",
   "id": "535316dc",
   "metadata": {},
   "source": [
    "#### Календарь"
   ]
  },
  {
   "cell_type": "code",
   "execution_count": null,
   "id": "0847c6ef",
   "metadata": {},
   "outputs": [],
   "source": [
    "# узнать количество дней в месяце\n",
    "calendar.monthrange(year,month)"
   ]
  },
  {
   "cell_type": "code",
   "execution_count": null,
   "id": "bbae5d02",
   "metadata": {},
   "outputs": [],
   "source": [
    "# напечатаем календарь\n",
    "calendar.prmonth(year,month)"
   ]
  },
  {
   "cell_type": "markdown",
   "id": "9b89f3f7",
   "metadata": {},
   "source": [
    "#### Варианты формирования промежутков времени"
   ]
  },
  {
   "cell_type": "code",
   "execution_count": null,
   "id": "62bb5153",
   "metadata": {},
   "outputs": [],
   "source": [
    "#с интервалом по дням\n",
    "pd.date_range(start='01/01/2023', end='01/31/2023')"
   ]
  },
  {
   "cell_type": "code",
   "execution_count": null,
   "id": "4ac3905e",
   "metadata": {},
   "outputs": [],
   "source": [
    "# промежутки с интервалом по дням вперед\n",
    "pd.date_range(start='02/01/2023', periods=15)"
   ]
  },
  {
   "cell_type": "code",
   "execution_count": null,
   "id": "e7cb8949",
   "metadata": {},
   "outputs": [],
   "source": [
    "# промежутки с интервалом по дням назад\n",
    "pd.date_range(end='02/01/2023', periods=15)"
   ]
  },
  {
   "cell_type": "code",
   "execution_count": null,
   "id": "eb56df16",
   "metadata": {},
   "outputs": [],
   "source": [
    "# узнаем когда конец месяца\n",
    "pd.date_range(start='02/01/2023',freq='M', periods=1)"
   ]
  },
  {
   "cell_type": "code",
   "execution_count": null,
   "id": "149633fc",
   "metadata": {},
   "outputs": [],
   "source": [
    "# промежуток с начала текущего месяца\n",
    "current_month_time_period = pd.date_range(end=today, periods= int(day))\n",
    "current_month_time_period"
   ]
  },
  {
   "cell_type": "code",
   "execution_count": null,
   "id": "e49a4baf",
   "metadata": {},
   "outputs": [],
   "source": [
    "current_month_time_period.strftime('%Y-%m-%d').tolist()"
   ]
  },
  {
   "cell_type": "code",
   "execution_count": null,
   "id": "525a3cd5",
   "metadata": {},
   "outputs": [],
   "source": [
    "current_month_date_range = []\n",
    "for time in current_month_time_period:\n",
    "    current_month_date_range.append(pd.date_range(time,freq='D', periods=1).strftime('%Y-%m-%d').tolist())\n",
    "current_month_date_range"
   ]
  },
  {
   "cell_type": "code",
   "execution_count": null,
   "id": "8b6613ad",
   "metadata": {},
   "outputs": [],
   "source": [
    "for date in current_month_date_range:\n",
    "    end_date_to = date[0]\n",
    "    print ('Date to:', end_date_to)\n",
    "    start_date_from = (pd.to_datetime(end_date_to) - timedelta(days=1)).strftime('%Y-%m-%d')\n",
    "    print ('Date from:',start_date_from)"
   ]
  },
  {
   "cell_type": "code",
   "execution_count": null,
   "id": "1333d066",
   "metadata": {},
   "outputs": [],
   "source": [
    "# промежуток времени в часах\n",
    "pd.date_range(start='02/10/2023',freq='H', periods=24)"
   ]
  },
  {
   "cell_type": "code",
   "execution_count": null,
   "id": "4393b59a",
   "metadata": {},
   "outputs": [],
   "source": [
    "# промежуток времени в часах\n",
    "hours_date_range_period = pd.date_range(start='02/13/2023',freq='H', periods=24)\n",
    "hours_date_range_period"
   ]
  },
  {
   "cell_type": "code",
   "execution_count": null,
   "id": "2e884f4f",
   "metadata": {},
   "outputs": [],
   "source": [
    "# промежуток времени в часах\n",
    "hours_date_range= []\n",
    "for time in hours_date_range_period:\n",
    "    hours_date_range.append(pd.date_range(time,freq='D', periods=1).strftime('%Y-%m-%dT%H:%M:%S').tolist())\n",
    "hours_date_range"
   ]
  },
  {
   "cell_type": "code",
   "execution_count": null,
   "id": "bd19fabb",
   "metadata": {},
   "outputs": [],
   "source": [
    "# промежуток времени в часах\n",
    "for hour in hours_date_range:\n",
    "    start_hour = hour[0]\n",
    "    print ('Date from:', start_hour)\n",
    "    end_hour = (pd.to_datetime(start_hour) + timedelta(hours=1)).strftime('%Y-%m-%dT%H:%M:%S')\n",
    "    print ('Date to:',end_hour)"
   ]
  },
  {
   "cell_type": "markdown",
   "id": "48ee6ed5",
   "metadata": {},
   "source": [
    "### Cформируем запрос за несколько дней с начала месяца"
   ]
  },
  {
   "cell_type": "code",
   "execution_count": null,
   "id": "0d625064",
   "metadata": {},
   "outputs": [],
   "source": [
    "# Количество страниц в запросе\n",
    "number_of_pages = 100 # Количество элементов (по умолчанию - 10, максимальное значение - 100)"
   ]
  },
  {
   "cell_type": "code",
   "execution_count": null,
   "id": "2a364fde",
   "metadata": {},
   "outputs": [],
   "source": [
    "# Адрес запроса вакансий\n",
    "url_HH_vacancies = 'https://api.hh.ru/vacancies'"
   ]
  },
  {
   "cell_type": "code",
   "execution_count": null,
   "id": "8e17cb30",
   "metadata": {},
   "outputs": [],
   "source": [
    "job_2"
   ]
  },
  {
   "cell_type": "code",
   "execution_count": null,
   "id": "8228632b",
   "metadata": {},
   "outputs": [],
   "source": [
    "# Подробнее параметры запроса смотри в описание API HeadHunter\n",
    "# \n",
    "query_parametrs_0 = {\n",
    "    'per_page': number_of_pages,\n",
    "    'text': job_2,\n",
    "    'area':'113', # Регион Россия\n",
    "    'only_with_salary': True, # Показывать вакансии только с указанием зарплаты. \n",
    "    'responses_count_enabled': True, # Количеством откликов для вакансии включено\n",
    "}"
   ]
  },
  {
   "cell_type": "code",
   "execution_count": null,
   "id": "d3e690aa",
   "metadata": {},
   "outputs": [],
   "source": [
    "vacancies_0 = pd.DataFrame()\n",
    "\n",
    "# подсчет суммарного количество найденных вакансий за весь период поиска\n",
    "sum_found = []\n",
    "\n",
    "for date in tqdm(current_month_date_range):\n",
    "    end_date_to = date[0]\n",
    "    start_date_from = (pd.to_datetime(end_date_to) - timedelta(days=1)).strftime('%Y-%m-%d')\n",
    "   \n",
    "    #### наш запрос    \n",
    "    page = 0\n",
    "    for page_number in tqdm(range(0, 20)):\n",
    "        # 20page x 100 per_page HeadHunter не выдает в запросе не больше 2000 ?\n",
    "        query_parametrs_0['page'] = page_number\n",
    "        query_parametrs_0['date_from'] = start_date_from\n",
    "        query_parametrs_0['date_to'] = end_date_to\n",
    "        request = requests.get(url=url_HH_vacancies,\n",
    "                               params=query_parametrs_0)\n",
    "        response = request.json()\n",
    "        \n",
    "        vacancies_0 = pd.concat([vacancies_0, pd.DataFrame(response['items'])])\n",
    "   \n",
    "    # количество найденных вакансий за каждый день\n",
    "    found= response['found']\n",
    "    # суммарное количество найденных вакансий за весь период\n",
    "    sum_found.append(found)"
   ]
  },
  {
   "cell_type": "code",
   "execution_count": null,
   "id": "809bb608",
   "metadata": {},
   "outputs": [],
   "source": [
    "vacancies_0\n"
   ]
  },
  {
   "cell_type": "code",
   "execution_count": null,
   "id": "cb3e69ad",
   "metadata": {},
   "outputs": [],
   "source": [
    "# количество найденых вакансий по дням\n",
    "# ВАЖНО - убедись что каждый день меньше 2000\n",
    "sum_found"
   ]
  },
  {
   "cell_type": "code",
   "execution_count": null,
   "id": "6c58deb7",
   "metadata": {},
   "outputs": [],
   "source": [
    "# суммарное количество найденных вакансий за весь период\n",
    "# ВНИМАНИЕ - должно совпасть с количеством строк в датафрейме выше\n",
    "sum(sum_found)"
   ]
  },
  {
   "cell_type": "code",
   "execution_count": null,
   "id": "59851bfe",
   "metadata": {},
   "outputs": [],
   "source": [
    "# преобразуем время и дату\n",
    "vacancies_0['published_at'] = pd.to_datetime(vacancies_0['published_at'])\n",
    "vacancies_0['created_at'] = pd.to_datetime(vacancies_0['created_at'])\n",
    "vacancies_0['created_at_str'] = pd.to_datetime(vacancies_0['created_at']).dt.strftime('%Y-%m-%d')"
   ]
  },
  {
   "cell_type": "code",
   "execution_count": null,
   "id": "ce1ae729",
   "metadata": {},
   "outputs": [],
   "source": [
    "vacancies_0['created_at_str'].describe()"
   ]
  },
  {
   "cell_type": "code",
   "execution_count": null,
   "id": "ccb9c5c3",
   "metadata": {},
   "outputs": [],
   "source": [
    "vacancies_0\\\n",
    "    .groupby('created_at_str', as_index=False)\\\n",
    "    .agg({'id':'count'})\\\n",
    "    .sort_values('id', ascending = False)"
   ]
  },
  {
   "cell_type": "code",
   "execution_count": null,
   "id": "95187b8e",
   "metadata": {},
   "outputs": [],
   "source": [
    "vacancies_0_for_plot = vacancies_0\\\n",
    "    .groupby('created_at_str', as_index=False)\\\n",
    "    .agg({'id':'count'})"
   ]
  },
  {
   "cell_type": "code",
   "execution_count": null,
   "id": "47e736ba",
   "metadata": {},
   "outputs": [],
   "source": [
    "plt.figure(figsize = (8,6))\n",
    "sns.barplot(data=vacancies_0_for_plot, x=\"created_at_str\", y=\"id\")\n",
    "locs, labels = plt.xticks()\n",
    "plt.setp(labels, rotation=90);"
   ]
  },
  {
   "cell_type": "code",
   "execution_count": null,
   "id": "326083c0",
   "metadata": {},
   "outputs": [],
   "source": [
    "calendar.prmonth(2023, 2)"
   ]
  },
  {
   "cell_type": "code",
   "execution_count": null,
   "id": "08788eca",
   "metadata": {},
   "outputs": [],
   "source": [
    "vacancies_0.describe()"
   ]
  },
  {
   "cell_type": "code",
   "execution_count": null,
   "id": "0990b7ba",
   "metadata": {},
   "outputs": [],
   "source": [
    "vacancies_0.id.describe()"
   ]
  },
  {
   "cell_type": "code",
   "execution_count": null,
   "id": "10eafc78",
   "metadata": {},
   "outputs": [],
   "source": [
    "# посмотрим какие у нас ID повторяются ?\n",
    "# может дело в 00:00 ?\n",
    "vacancies_0\\\n",
    "    .groupby('id', as_index=False)\\\n",
    "    .agg({'premium':'count'})\\\n",
    "    .sort_values('id', ascending = True)"
   ]
  },
  {
   "cell_type": "code",
   "execution_count": null,
   "id": "f3d47566",
   "metadata": {},
   "outputs": [],
   "source": [
    "# явной закономерности повторяния быстро не увидел - нужно проверить позже\n",
    "vacancies_0\\\n",
    "    .query ('id == [\"76515203\",\"37450190\",\"37644107\",\"40209605\"]')\\\n",
    "    .sort_values('id', ascending = True)\\\n",
    "    [['id','created_at_str','created_at','published_at']]\n",
    "    "
   ]
  },
  {
   "cell_type": "markdown",
   "id": "741a1c56",
   "metadata": {},
   "source": [
    "### Справочники поработаем с ними\n"
   ]
  },
  {
   "cell_type": "markdown",
   "id": "4c4f8ec0",
   "metadata": {},
   "source": [
    "#### Дерево всех регионов\n",
    "Согласно  **HeadHunter API** документации:\n",
    "- [Справочник регионов](https://github.com/hhru/api/blob/master/docs/areas.md)\n",
    "- `GET /areas` возвращает древовидный список всех регионов с указанием названия региона, его идентификатором и ссылкой на родительский регион `parent_id`."
   ]
  },
  {
   "cell_type": "code",
   "execution_count": null,
   "id": "aab2301e",
   "metadata": {},
   "outputs": [],
   "source": [
    "# Адрес запроса дерева регионов\n",
    "url_HH_areas = 'https://api.hh.ru/areas'"
   ]
  },
  {
   "cell_type": "code",
   "execution_count": null,
   "id": "9268eb02",
   "metadata": {},
   "outputs": [],
   "source": [
    "areas = requests.get(url_HH_areas).json()\n",
    "areas"
   ]
  },
  {
   "cell_type": "markdown",
   "id": "c100c4f4",
   "metadata": {},
   "source": [
    "#### Справочник стран\n",
    "Согласно  **HeadHunter API** документации:\n",
    "- [Справочник регионов](https://github.com/hhru/api/blob/master/docs/areas.md)\n",
    "- `GET /areas/countries` вернёт подмножество регионов, являющихся странами."
   ]
  },
  {
   "cell_type": "code",
   "execution_count": null,
   "id": "c0b32ce6",
   "metadata": {},
   "outputs": [],
   "source": [
    "# Адрес запроса дерева регионов\n",
    "url_HH_countries = 'https://api.hh.ru/areas/countries'"
   ]
  },
  {
   "cell_type": "code",
   "execution_count": null,
   "id": "304aae2a",
   "metadata": {},
   "outputs": [],
   "source": [
    "# Именно отсюда мы понимаем что для России выбираем 113\n",
    "countries = requests.get(url_HH_countries).json()\n",
    "countries"
   ]
  },
  {
   "cell_type": "markdown",
   "id": "87264665",
   "metadata": {},
   "source": [
    "#### Словари\n"
   ]
  },
  {
   "cell_type": "code",
   "execution_count": null,
   "id": "b1edf8b5",
   "metadata": {},
   "outputs": [],
   "source": [
    "# Адрес запроса \n",
    "url_HH_dictionaries = 'https://api.hh.ru/dictionaries'"
   ]
  },
  {
   "cell_type": "code",
   "execution_count": null,
   "id": "92300c63",
   "metadata": {},
   "outputs": [],
   "source": [
    "dictionaries = requests.get(url_HH_dictionaries).json()\n",
    "dictionaries"
   ]
  },
  {
   "cell_type": "code",
   "execution_count": null,
   "id": "e4f6703e",
   "metadata": {},
   "outputs": [],
   "source": [
    "# Вот отсюда языковой поисковый запрос на HH берет необходимые ключи\n",
    "# В поисковом запросе мы также можем при построении сложных запросов использовать синтаксис\n",
    "# Список доступных полей:\n",
    "\n",
    "# !ID - id вакансии (восклицательный знак обязателен)\n",
    "# NAME - название вакансии\n",
    "# !COMPANY_ID - id компании (восклицательный знак обязателен)\n",
    "# COMPANY_NAME - название компании\n",
    "# DESCRIPTION - описание вакансии\n",
    "\n",
    "# NAME:(python OR java) and COMPANY_NAME:Headhunter\n",
    "\n",
    "dictionaries['vacancy_search_fields']"
   ]
  },
  {
   "cell_type": "markdown",
   "id": "1bcf0b1b",
   "metadata": {},
   "source": [
    "#### Специализации\n",
    "Согласно  **HeadHunter API** документации:\n",
    "- [Специализации](https://github.com/hhru/api/blob/master/docs/specializations.md)\n",
    "- `GET /specializations` возвращает справочник всех профессиональных областей и специализаций."
   ]
  },
  {
   "cell_type": "code",
   "execution_count": null,
   "id": "9771f156",
   "metadata": {},
   "outputs": [],
   "source": [
    "# Адрес запроса \n",
    "url_HH_specializations = 'https://api.hh.ru/specializations'"
   ]
  },
  {
   "cell_type": "code",
   "execution_count": null,
   "id": "dc839801",
   "metadata": {},
   "outputs": [],
   "source": [
    "specializations = requests.get(url_HH_specializations).json()\n",
    "specializations"
   ]
  },
  {
   "cell_type": "markdown",
   "id": "e449f0c3",
   "metadata": {},
   "source": [
    "### Попробуем запрос по компаниям \n",
    "\n",
    "1. **Поиск по компаниям**\n",
    "\t- `GET /employers`\n",
    "\t- [OpenAPI](https://api.hh.ru/openapi/redoc#tag/Rabotodatel/operation/search-employer) документация\n"
   ]
  },
  {
   "cell_type": "code",
   "execution_count": null,
   "id": "172b89fe",
   "metadata": {},
   "outputs": [],
   "source": [
    "# Адрес запроса поиска по компаниям \n",
    "url_HH_employers = 'https://api.hh.ru/employers'"
   ]
  },
  {
   "cell_type": "code",
   "execution_count": null,
   "id": "59d52ec9",
   "metadata": {},
   "outputs": [],
   "source": [
    "# Подробнее параметры запроса смотри в описание API HeadHunter\n",
    "query_parametrs_employers = {\n",
    "    'per_page': number_of_pages,\n",
    "    'text': 'Газпром' # Текст для поиска. Переданное значение ищется в названии и описании работодателя                               \n",
    "                            }"
   ]
  },
  {
   "cell_type": "code",
   "execution_count": null,
   "id": "2fac7242",
   "metadata": {},
   "outputs": [],
   "source": [
    "requests_employers = requests.get(url_HH_employers,\n",
    "                        params= query_parametrs_employers)\n",
    "response_employers = requests_employers.json()"
   ]
  },
  {
   "cell_type": "code",
   "execution_count": null,
   "id": "7d876755",
   "metadata": {},
   "outputs": [],
   "source": [
    "# посмотрим какие у нас есть ключи\n",
    "response_employers.keys()"
   ]
  },
  {
   "cell_type": "code",
   "execution_count": null,
   "id": "0f46263a",
   "metadata": {},
   "outputs": [],
   "source": [
    "# посмотрим какие у нас есть ключи\n",
    "response_employers['items'][0].keys()"
   ]
  },
  {
   "cell_type": "code",
   "execution_count": null,
   "id": "8b89d3d5",
   "metadata": {},
   "outputs": [],
   "source": [
    "response_employers"
   ]
  },
  {
   "cell_type": "code",
   "execution_count": null,
   "id": "b817f66f",
   "metadata": {},
   "outputs": [],
   "source": [
    "response_employers ['items'][0]"
   ]
  },
  {
   "cell_type": "code",
   "execution_count": null,
   "id": "df086ed1",
   "metadata": {},
   "outputs": [],
   "source": [
    "response_employers ['items'][0]['id']\n"
   ]
  },
  {
   "cell_type": "code",
   "execution_count": null,
   "id": "deae28b4",
   "metadata": {},
   "outputs": [],
   "source": [
    "response_employers ['items'][0]['name']"
   ]
  },
  {
   "cell_type": "code",
   "execution_count": null,
   "id": "4a1a23d0",
   "metadata": {},
   "outputs": [],
   "source": [
    "# количество результатов поиска\n",
    "response_employers ['found']"
   ]
  },
  {
   "cell_type": "markdown",
   "id": "ba80ac48",
   "metadata": {},
   "source": [
    "#### Получим подробную информацию о конкретной компании"
   ]
  },
  {
   "cell_type": "code",
   "execution_count": null,
   "id": "0d563166",
   "metadata": {},
   "outputs": [],
   "source": [
    "first_employer_id = response_employers ['items'][0]['id']\n",
    "first_employer_id"
   ]
  },
  {
   "cell_type": "code",
   "execution_count": null,
   "id": "6d755170",
   "metadata": {},
   "outputs": [],
   "source": [
    "# Адрес запроса поиска по компаниям \n",
    "url_HH_employer = f'https://api.hh.ru/employers/{first_employer_id}'\n",
    "url_HH_employer"
   ]
  },
  {
   "cell_type": "code",
   "execution_count": null,
   "id": "8ff94d4c",
   "metadata": {},
   "outputs": [],
   "source": [
    "requests_unique_employer = requests.get(url_HH_employer)\n",
    "response_unique_employer = requests_unique_employer.json()"
   ]
  },
  {
   "cell_type": "code",
   "execution_count": null,
   "id": "2b88eaf9",
   "metadata": {},
   "outputs": [],
   "source": [
    "response_unique_employer"
   ]
  },
  {
   "cell_type": "code",
   "execution_count": null,
   "id": "ab3fbb18",
   "metadata": {},
   "outputs": [],
   "source": [
    "# Ищем страницу на сайте HH и в url берем наш ID (https://hh.ru/employer/3388)\n",
    "# Ну или берем из нашего предыдущего поиска по компаниям\n",
    "\n",
    "employer_id = 3388 #ГазпромБанк\n",
    "#employer_id = 1740 #Яндекс"
   ]
  },
  {
   "cell_type": "code",
   "execution_count": null,
   "id": "98f85ccc",
   "metadata": {},
   "outputs": [],
   "source": [
    "# Адрес запроса поиска вакансий по конкретной компании\n",
    "url_HH_employer_vacancies = f'https://api.hh.ru/vacancies?employer_id={employer_id}'\n",
    "url_HH_employer_vacancies"
   ]
  },
  {
   "cell_type": "code",
   "execution_count": null,
   "id": "3e2ea84e",
   "metadata": {},
   "outputs": [],
   "source": [
    "requests_employer_vacancies = requests.get(url_HH_employer_vacancies)\n",
    "response_employer_vacancies = requests_employer_vacancies.json()"
   ]
  },
  {
   "cell_type": "code",
   "execution_count": null,
   "id": "d9c8f822",
   "metadata": {},
   "outputs": [],
   "source": [
    "response_employer_vacancies"
   ]
  },
  {
   "cell_type": "code",
   "execution_count": null,
   "id": "ce2dfc3f",
   "metadata": {},
   "outputs": [],
   "source": [
    "# Количество найденных вакансий\n",
    "response_employer_vacancies ['found']"
   ]
  },
  {
   "cell_type": "code",
   "execution_count": null,
   "id": "5df62884",
   "metadata": {},
   "outputs": [],
   "source": [
    "# количество страниц\n",
    "response_employer_vacancies ['pages']"
   ]
  },
  {
   "cell_type": "code",
   "execution_count": null,
   "id": "734b465e",
   "metadata": {},
   "outputs": [],
   "source": [
    "# сколько вакансий на страницу\n",
    "response_employer_vacancies ['per_page']"
   ]
  },
  {
   "cell_type": "code",
   "execution_count": null,
   "id": "0b85f119",
   "metadata": {},
   "outputs": [],
   "source": [
    "# Подробнее параметры запроса смотри в описание API HeadHunter\n",
    "# \n",
    "query_parametrs_employer_vacancies = {\n",
    "    'per_page': number_of_pages,\n",
    "    'text': job_2,\n",
    "    'area':'113', # Регион Россия\n",
    "    'only_with_salary': True, # Показывать вакансии только с указанием зарплаты. \n",
    "    'responses_count_enabled': True, # Количеством откликов для вакансии включено\n",
    "}"
   ]
  },
  {
   "cell_type": "code",
   "execution_count": null,
   "id": "ac4cbae1",
   "metadata": {},
   "outputs": [],
   "source": [
    "# список со всей информацией\n",
    "employer_vacancies = []\n",
    "\n",
    "# датафрейм только с вакансиями\n",
    "df_employer_vacancies = pd.DataFrame()\n",
    "\n",
    "for i in tqdm(range(0, (response_employer_vacancies ['pages']))):\n",
    "    # работаем со списком\n",
    "    employer_vacancies.append(requests.get (url_HH_employer_vacancies,\n",
    "                                            params={\n",
    "                                                'page': i, \n",
    "                                                'per_page': (response_employer_vacancies ['per_page'])\n",
    "                                                    }).json())\n",
    "    # работаем с датафреймом\n",
    "    df_employer_vacancies = pd.concat([df_employer_vacancies, pd.DataFrame((requests.get (url_HH_employer_vacancies,\n",
    "                                            params={\n",
    "                                                'page': i, \n",
    "                                                'per_page': (response_employer_vacancies ['per_page'])\n",
    "                                                    }).json())['items'])])"
   ]
  },
  {
   "cell_type": "code",
   "execution_count": null,
   "id": "d5b717ea",
   "metadata": {},
   "outputs": [],
   "source": [
    "# ВНИМАНИЕ большая выдача - все страницы в один лист!\n",
    "employer_vacancies"
   ]
  },
  {
   "cell_type": "code",
   "execution_count": null,
   "id": "36c1ed2e",
   "metadata": {},
   "outputs": [],
   "source": [
    "#  превратим полный список в pandas датафрейм\n",
    "df_employer_vacancies_full = pd.DataFrame(employer_vacancies)"
   ]
  },
  {
   "cell_type": "code",
   "execution_count": null,
   "id": "753d9c08",
   "metadata": {},
   "outputs": [],
   "source": [
    "# вот резудьтаты всеъ запросов по страницам\n",
    "df_employer_vacancies_full"
   ]
  },
  {
   "cell_type": "code",
   "execution_count": null,
   "id": "43650312",
   "metadata": {},
   "outputs": [],
   "source": [
    "# результат запроса первой страницы\n",
    "df_employer_vacancies_full['items'][0]"
   ]
  },
  {
   "cell_type": "code",
   "execution_count": null,
   "id": "ac71e7d2",
   "metadata": {},
   "outputs": [],
   "source": [
    "#  посмотрим датафрейм только с вакансиями\n",
    "df_employer_vacancies"
   ]
  },
  {
   "cell_type": "markdown",
   "id": "847cd3c7",
   "metadata": {},
   "source": [
    "## Реализация обработки кода ответа от API"
   ]
  },
  {
   "cell_type": "code",
   "execution_count": null,
   "id": "c89fc02e",
   "metadata": {},
   "outputs": [],
   "source": [
    "# пример хорошего удачного запроса\n",
    "# на примере из предыдущего запроса\n",
    "good_URL = f'https://api.hh.ru/vacancies?employer_id={employer_id}'\n",
    "good_URL"
   ]
  },
  {
   "cell_type": "code",
   "execution_count": null,
   "id": "b7787389",
   "metadata": {},
   "outputs": [],
   "source": [
    "# пример неудачного запроса\n",
    "# на примере из предыдущего запроса\n",
    "# не полный запрос не хватает параметров !!!\n",
    "bad_URL = f'https://api.hh.ru/vacancies?employer_id='\n",
    "bad_URL"
   ]
  },
  {
   "cell_type": "code",
   "execution_count": null,
   "id": "0a494769",
   "metadata": {},
   "outputs": [],
   "source": [
    "# пример хорошего удачного запроса\n",
    "requests_good = requests.get(good_URL)"
   ]
  },
  {
   "cell_type": "code",
   "execution_count": null,
   "id": "f0d04749",
   "metadata": {},
   "outputs": [],
   "source": [
    "# пример неудачного запроса\n",
    "requests_bad = requests.get(bad_URL)"
   ]
  },
  {
   "cell_type": "code",
   "execution_count": null,
   "id": "5d7190ef",
   "metadata": {},
   "outputs": [],
   "source": [
    "# пример хорошего удачного запроса\n",
    "#Смотрим какой код ответа\n",
    "requests_good.status_code"
   ]
  },
  {
   "cell_type": "code",
   "execution_count": null,
   "id": "5848976d",
   "metadata": {},
   "outputs": [],
   "source": [
    "# пример неудачного запроса\n",
    "#Смотрим какой код ответа\n",
    "requests_bad.status_code"
   ]
  },
  {
   "cell_type": "code",
   "execution_count": null,
   "id": "4de6fe11",
   "metadata": {},
   "outputs": [],
   "source": [
    "# пример хорошего удачного запроса\n",
    "#Смотрим какой код ответа\n",
    "requests_good"
   ]
  },
  {
   "cell_type": "code",
   "execution_count": null,
   "id": "fbb56ab7",
   "metadata": {},
   "outputs": [],
   "source": [
    "# пример неудачного запроса\n",
    "#Смотрим какой код ответа\n",
    "requests_bad"
   ]
  },
  {
   "cell_type": "code",
   "execution_count": null,
   "id": "709f5931",
   "metadata": {},
   "outputs": [],
   "source": [
    "# пример хорошего удачного запроса\n",
    "# булевое сравнение что код ОК\n",
    "requests_good.status_code == requests.codes.ok"
   ]
  },
  {
   "cell_type": "code",
   "execution_count": null,
   "id": "97c04e1d",
   "metadata": {},
   "outputs": [],
   "source": [
    "# пример неудачного запроса\n",
    "# булевое сравнение что код ОК\n",
    "requests_bad.status_code == requests.codes.ok"
   ]
  },
  {
   "cell_type": "code",
   "execution_count": null,
   "id": "1509ca35",
   "metadata": {},
   "outputs": [],
   "source": [
    "# пример хорошего удачного запроса\n",
    "# посмотри что будет происходить при неудачном запросе 4хх или 5хх\n",
    "requests_good.raise_for_status()"
   ]
  },
  {
   "cell_type": "code",
   "execution_count": null,
   "id": "72364466",
   "metadata": {},
   "outputs": [],
   "source": [
    "# пример неудачного запроса\n",
    "# посмотри что будет происходить при неудачном запросе 4хх или 5хх\n",
    "requests_bad.raise_for_status()"
   ]
  },
  {
   "cell_type": "code",
   "execution_count": null,
   "id": "c6689a70",
   "metadata": {},
   "outputs": [],
   "source": [
    "# пример хорошего удачного запроса\n",
    "# заголовок запроса\n",
    "requests_good.headers"
   ]
  },
  {
   "cell_type": "code",
   "execution_count": null,
   "id": "fd059ce5",
   "metadata": {},
   "outputs": [],
   "source": [
    "# пример неудачного запроса\n",
    "# заголовок запроса\n",
    "requests_bad.headers"
   ]
  },
  {
   "cell_type": "code",
   "execution_count": null,
   "id": "e5338b8b",
   "metadata": {},
   "outputs": [],
   "source": [
    "# пример хорошего удачного запроса\n",
    "# кодировка\n",
    "requests_good.encoding"
   ]
  },
  {
   "cell_type": "code",
   "execution_count": null,
   "id": "7b30ca88",
   "metadata": {},
   "outputs": [],
   "source": [
    "# пример неудачного запроса\n",
    "# кодировка\n",
    "requests_bad.encoding"
   ]
  },
  {
   "cell_type": "code",
   "execution_count": null,
   "id": "f5b1b24d",
   "metadata": {},
   "outputs": [],
   "source": [
    "# пример хорошего удачного запроса\n",
    "# текст ответа сайта\n",
    "requests_good.text"
   ]
  },
  {
   "cell_type": "code",
   "execution_count": null,
   "id": "fb372689",
   "metadata": {},
   "outputs": [],
   "source": [
    "# пример неудачного запроса\n",
    "# текст ответа сайта\n",
    "requests_bad.text"
   ]
  },
  {
   "cell_type": "code",
   "execution_count": null,
   "id": "decf6f63",
   "metadata": {},
   "outputs": [],
   "source": [
    "# пример хорошего удачного запроса\n",
    "# текст ответа сайта\n",
    "requests_good.json()"
   ]
  },
  {
   "cell_type": "code",
   "execution_count": null,
   "id": "9d052c7f",
   "metadata": {},
   "outputs": [],
   "source": [
    "# пример неудачного запроса\n",
    "# текст ответа сайта\n",
    "requests_bad.json()"
   ]
  },
  {
   "cell_type": "markdown",
   "id": "2f8f666b",
   "metadata": {},
   "source": [
    "## Сформируем наш запрос где попробуем добиться ограничения в 2000 вакансий"
   ]
  },
  {
   "cell_type": "code",
   "execution_count": null,
   "id": "98dabd71",
   "metadata": {},
   "outputs": [],
   "source": [
    "# Количество страниц в запросе\n",
    "number_of_pages"
   ]
  },
  {
   "cell_type": "code",
   "execution_count": null,
   "id": "7156fb06",
   "metadata": {},
   "outputs": [],
   "source": [
    "# Адрес запроса вакансий\n",
    "url_HH_vacancies"
   ]
  },
  {
   "cell_type": "code",
   "execution_count": null,
   "id": "342e70f8",
   "metadata": {},
   "outputs": [],
   "source": [
    "job_search_field"
   ]
  },
  {
   "cell_type": "code",
   "execution_count": null,
   "id": "b665357f",
   "metadata": {},
   "outputs": [],
   "source": [
    "# Подробнее параметры запроса смотри в описание API HeadHunter\n",
    "# \n",
    "query_parametrs_1 = {\n",
    "    'per_page': number_of_pages,\n",
    "    'text': job_search_field,\n",
    "    'area':'113', # Регион Россия\n",
    "    'only_with_salary': True, # Показывать вакансии только с указанием зарплаты.\n",
    "    'date_from': '2023-01-25',  #фильтр по дате публикациии (от)\n",
    "    'responses_count_enabled': True, # Количеством откликов для вакансии включено\n",
    "}"
   ]
  },
  {
   "cell_type": "code",
   "execution_count": null,
   "id": "5b15cc06",
   "metadata": {},
   "outputs": [],
   "source": [
    "request_1 = requests.get(url=url_HH_vacancies,\n",
    "                           params=query_parametrs_1)\n",
    "\n",
    "response_1 = request_1.json()"
   ]
  },
  {
   "cell_type": "code",
   "execution_count": null,
   "id": "31f6b241",
   "metadata": {},
   "outputs": [],
   "source": [
    "response_1"
   ]
  },
  {
   "cell_type": "code",
   "execution_count": null,
   "id": "4c8e389c",
   "metadata": {},
   "outputs": [],
   "source": [
    "response_1 ['found']"
   ]
  },
  {
   "cell_type": "code",
   "execution_count": null,
   "id": "2381702e",
   "metadata": {},
   "outputs": [],
   "source": [
    "response_1 ['pages']"
   ]
  },
  {
   "cell_type": "code",
   "execution_count": null,
   "id": "f7cb3db8",
   "metadata": {},
   "outputs": [],
   "source": [
    "response_1 ['per_page']"
   ]
  },
  {
   "cell_type": "code",
   "execution_count": null,
   "id": "e544c08a",
   "metadata": {},
   "outputs": [],
   "source": [
    "# на каком количестве страниц уместиться все ?\n",
    "response_1 ['found'] / response_1 ['per_page']"
   ]
  },
  {
   "cell_type": "code",
   "execution_count": null,
   "id": "e1573cb2",
   "metadata": {},
   "outputs": [],
   "source": [
    "vacancies_1_list = []\n",
    "for i in tqdm(range(0, 35)):\n",
    "    vacancies_1_list.append(requests.get(url=url_HH_vacancies,\n",
    "                               params= {\n",
    "                                        'page': i,\n",
    "                                        'per_page': number_of_pages, \n",
    "                                        'text': job_search_field,  \n",
    "                                        'area':'113', # Регион Россия \n",
    "                                        'only_with_salary': True, # Показывать вакансии только с указанием зарплаты. \n",
    "                                        'date_from': '2023-01-25',  #фильтр по дате бубликациии(от)\n",
    "                                        'responses_count_enabled': True, # Количеством откликов для вакансии включено\n",
    "                                        }\n",
    "                               ).json())"
   ]
  },
  {
   "cell_type": "code",
   "execution_count": null,
   "id": "ad83258e",
   "metadata": {},
   "outputs": [],
   "source": [
    "vacancies_1_list"
   ]
  },
  {
   "cell_type": "code",
   "execution_count": null,
   "id": "622ffcd3",
   "metadata": {},
   "outputs": [],
   "source": [
    "#  превратим все в наш датафрейм\n",
    "df_vacancies_1 = pd.DataFrame(vacancies_1_list)"
   ]
  },
  {
   "cell_type": "code",
   "execution_count": null,
   "id": "42afc718",
   "metadata": {},
   "outputs": [],
   "source": [
    "# ну вот встречаем ошибку что мы не можем смотреть больше 2000 шт\n",
    "# you can't look up more than 2000 items in the list\n",
    "\n",
    "df_vacancies_1"
   ]
  },
  {
   "cell_type": "code",
   "execution_count": null,
   "id": "7cdb155c",
   "metadata": {},
   "outputs": [],
   "source": [
    "# попробуем обойти запрет на пагинацию страниц смещением страниц на 15 к примеру\n",
    "vacancies_2_list = []\n",
    "for i in tqdm(range(0, 35)):\n",
    "    vacancies_2_list.append(requests.get(url=url_HH_vacancies,\n",
    "                               params= {\n",
    "                                        'page': 15+i,\n",
    "                                        'per_page': number_of_pages, \n",
    "                                        'text': job_search_field,  \n",
    "                                        'area':'113', # Регион Россия \n",
    "                                        'only_with_salary': True, # Показывать вакансии только с указанием зарплаты. \n",
    "                                        'date_from': '2023-01-25',  #фильтр по дате бубликациии(от)\n",
    "                                        'responses_count_enabled': True, # Количеством откликов для вакансии включено\n",
    "                                        }\n",
    "                               ).json())"
   ]
  },
  {
   "cell_type": "code",
   "execution_count": null,
   "id": "56b7a8f0",
   "metadata": {},
   "outputs": [],
   "source": [
    "#  превратим все в наш датафрейм\n",
    "df_vacancies_2 = pd.DataFrame(vacancies_2_list)"
   ]
  },
  {
   "cell_type": "code",
   "execution_count": null,
   "id": "1a451e70",
   "metadata": {},
   "outputs": [],
   "source": [
    "# ограничение на 2000 запросов все еще тут\n",
    "df_vacancies_2"
   ]
  },
  {
   "cell_type": "markdown",
   "id": "234fb1f4",
   "metadata": {},
   "source": [
    "#### понимаем что какая то ерунда и просто делаем часовое обновление и сращиваем все в один датафрейм\n",
    "\n",
    "- `date_from` – дата, которая ограничивает снизу диапазон дат публикации вакансий.\n",
    "Нельзя передавать вместе с параметром period.\n",
    "Значение указывается в формате ISO 8601 - YYYY-MM-DD или **с точность до секунды YYYY-MM-DDThh:mm:ss±hhmm**.\n",
    "Указанное значение будет округлено до ближайших 5 минут.\n",
    "\n",
    "- `date_to` – дата, которая ограничивает сверху диапазон дат публикации вакансий.\n",
    "Необходимо передавать только в паре с параметром date_from.\n",
    "Нельзя передавать вместе с параметром period.\n",
    "Значение указывается в формате ISO 8601 - YYYY-MM-DD или **с точность до секунды YYYY-MM-DDThh:mm:ss±hhmm**.\n",
    "Указанное значение будет округлено до ближайших 5 минут."
   ]
  },
  {
   "cell_type": "code",
   "execution_count": null,
   "id": "96fd9e77",
   "metadata": {},
   "outputs": [],
   "source": [
    "# Количество страниц в запросе\n",
    "number_of_pages"
   ]
  },
  {
   "cell_type": "code",
   "execution_count": null,
   "id": "d0355fad",
   "metadata": {},
   "outputs": [],
   "source": [
    "# Адрес запроса вакансий\n",
    "url_HH_vacancies"
   ]
  },
  {
   "cell_type": "code",
   "execution_count": null,
   "id": "931b6942",
   "metadata": {},
   "outputs": [],
   "source": [
    "job_title[-1]"
   ]
  },
  {
   "cell_type": "code",
   "execution_count": null,
   "id": "69b62aba",
   "metadata": {},
   "outputs": [],
   "source": [
    "# Подробнее параметры запроса смотри в описание API HeadHunter\n",
    "# \n",
    "query_parametrs_2 = {\n",
    "    'per_page': number_of_pages,\n",
    "    'text': job_title[-1],\n",
    "    'area':'113', # Регион Россия\n",
    "    'only_with_salary': True, # Показывать вакансии только с указанием зарплаты\n",
    "    'responses_count_enabled': True, # Количеством откликов для вакансии включено\n",
    "}"
   ]
  },
  {
   "cell_type": "code",
   "execution_count": null,
   "id": "f0838121",
   "metadata": {},
   "outputs": [],
   "source": [
    "vacancies_2 = pd.DataFrame()\n",
    "\n",
    "# промежуток времени в часах\n",
    "for hour in tqdm(hours_date_range):\n",
    "    start_hour = hour[0]\n",
    "    end_hour = (pd.to_datetime(start_hour) + timedelta(hours=1)).strftime('%Y-%m-%dT%H:%M:%S')\n",
    "\n",
    "    \n",
    "    for page_number in tqdm(range(0, 20)):\n",
    "        query_parametrs_2['page'] = page_number\n",
    "        query_parametrs_2['date_from'] = start_hour\n",
    "        query_parametrs_2['date_to'] = end_hour\n",
    "\n",
    "        request_2 = requests.get(url=url_HH_vacancies,\n",
    "                           params=query_parametrs_2)\n",
    "    \n",
    "        response_2 = request_2.json()\n",
    "        \n",
    "        #HH_vac.append(response_HH)\n",
    "        vacancies_2 = pd.concat([vacancies_2, pd.DataFrame(response_2['items'])])"
   ]
  },
  {
   "cell_type": "code",
   "execution_count": null,
   "id": "2d5dde08",
   "metadata": {},
   "outputs": [],
   "source": [
    "vacancies_2"
   ]
  },
  {
   "cell_type": "code",
   "execution_count": null,
   "id": "77cdf456",
   "metadata": {},
   "outputs": [],
   "source": [
    "vacancies_2.describe()"
   ]
  },
  {
   "cell_type": "code",
   "execution_count": null,
   "id": "d3a62a78",
   "metadata": {},
   "outputs": [],
   "source": [
    "#vacancies_2.describe(include=[object]) "
   ]
  },
  {
   "cell_type": "code",
   "execution_count": null,
   "id": "c3d819c4",
   "metadata": {},
   "outputs": [],
   "source": [
    "#vacancies_2.describe(exclude=[np.number])  "
   ]
  },
  {
   "cell_type": "code",
   "execution_count": null,
   "id": "8e8a232a",
   "metadata": {},
   "outputs": [],
   "source": [
    "# vacancies_2\\\n",
    "#     .groupby('name', as_index=False)\\\n",
    "#     .agg({'id':'count'})\\\n",
    "#     .sort_values('id', ascending = False)\\\n",
    "#     .rename(columns={\"name\": \"наименование вакансии\", \n",
    "#                      \"id\": \"количество\"})\\\n",
    "#     .head(30)"
   ]
  },
  {
   "cell_type": "markdown",
   "id": "ee8bec76",
   "metadata": {},
   "source": [
    "## Сделаем простой запрос на общее количество вакансий"
   ]
  },
  {
   "cell_type": "markdown",
   "id": "4167916d",
   "metadata": {},
   "source": [
    "### Наш тестовый запрос № 1"
   ]
  },
  {
   "cell_type": "code",
   "execution_count": null,
   "id": "db24f953",
   "metadata": {},
   "outputs": [],
   "source": [
    "# Количество страниц в запросе\n",
    "number_of_pages"
   ]
  },
  {
   "cell_type": "code",
   "execution_count": null,
   "id": "6de36a7f",
   "metadata": {},
   "outputs": [],
   "source": [
    "# Адрес запроса вакансий\n",
    "url_HH_vacancies"
   ]
  },
  {
   "cell_type": "code",
   "execution_count": null,
   "id": "3c756e9a",
   "metadata": {},
   "outputs": [],
   "source": [
    "job_2"
   ]
  },
  {
   "cell_type": "code",
   "execution_count": null,
   "id": "61bff460",
   "metadata": {},
   "outputs": [],
   "source": [
    "# Подробнее параметры запроса смотри в описание API HeadHunter\n",
    "query_parametrs_test_1 = {\n",
    "    'per_page': number_of_pages,\n",
    "    'text': job_2, # job_search_field как вариант\n",
    "    'area':'113', # Регион Россия\n",
    "    'only_with_salary': True, # Показывать вакансии только с указанием зарплаты.\n",
    "    'date_from':  yesterday, \n",
    "    'date_to':  today,\n",
    "    'responses_count_enabled': True, # Количеством откликов для вакансии включено\n",
    "}"
   ]
  },
  {
   "cell_type": "code",
   "execution_count": null,
   "id": "bbc53fe2",
   "metadata": {},
   "outputs": [],
   "source": [
    "vacancies_test_1 = pd.DataFrame()\n",
    "\n",
    "page_number = 0\n",
    "for page_number in tqdm(range(0, 20)):\n",
    "    # 20page x 100 per_page \n",
    "    query_parametrs_test_1['page'] = page_number\n",
    "\n",
    "    request_test_1 = requests.get(url=url_HH_vacancies,\n",
    "                               params=query_parametrs_test_1)\n",
    "    response_test_1 = request_test_1.json()\n",
    "    \n",
    "    vacancies_test_1 = pd.concat([vacancies_test_1, pd.DataFrame(response_test_1['items'])])"
   ]
  },
  {
   "cell_type": "code",
   "execution_count": null,
   "id": "e118d22b",
   "metadata": {},
   "outputs": [],
   "source": [
    "# Количество найденных вакансий - должно совпадать с количеством строк в датафрейме\n",
    "response_test_1 ['found']"
   ]
  },
  {
   "cell_type": "code",
   "execution_count": null,
   "id": "80da79f3",
   "metadata": {},
   "outputs": [],
   "source": [
    "vacancies_test_1"
   ]
  },
  {
   "cell_type": "code",
   "execution_count": null,
   "id": "2befb254",
   "metadata": {},
   "outputs": [],
   "source": [
    "# посмотрим какие у нас есть ключи\n",
    "response_test_1.keys()"
   ]
  },
  {
   "cell_type": "code",
   "execution_count": null,
   "id": "451e8a72",
   "metadata": {},
   "outputs": [],
   "source": [
    "list(response_test_1.keys())"
   ]
  },
  {
   "cell_type": "code",
   "execution_count": null,
   "id": "1e81aa97",
   "metadata": {},
   "outputs": [],
   "source": [
    "response_test_1"
   ]
  },
  {
   "cell_type": "code",
   "execution_count": null,
   "id": "419c8ca6",
   "metadata": {},
   "outputs": [],
   "source": [
    "# response_test_1['items'][0].keys()"
   ]
  },
  {
   "cell_type": "code",
   "execution_count": null,
   "id": "797bce0f",
   "metadata": {},
   "outputs": [],
   "source": [
    "vacancies_test_1.describe()"
   ]
  },
  {
   "cell_type": "code",
   "execution_count": null,
   "id": "a7fc32ff",
   "metadata": {},
   "outputs": [],
   "source": [
    "vacancies_test_1.columns"
   ]
  },
  {
   "cell_type": "code",
   "execution_count": null,
   "id": "dce6a85c",
   "metadata": {},
   "outputs": [],
   "source": [
    "list(vacancies_test_1.columns)"
   ]
  },
  {
   "cell_type": "markdown",
   "id": "22d22c9f",
   "metadata": {},
   "source": [
    "### попробуем парсить данные нормально из первого запроса\n"
   ]
  },
  {
   "cell_type": "code",
   "execution_count": null,
   "id": "a02b8467",
   "metadata": {},
   "outputs": [],
   "source": [
    "vacancies_test_1.head()"
   ]
  },
  {
   "cell_type": "code",
   "execution_count": null,
   "id": "506a8116",
   "metadata": {},
   "outputs": [],
   "source": [
    "vacancies_test_1.dtypes"
   ]
  },
  {
   "cell_type": "code",
   "execution_count": null,
   "id": "42107ac1",
   "metadata": {},
   "outputs": [],
   "source": [
    "vacancies_test_1.columns"
   ]
  },
  {
   "cell_type": "code",
   "execution_count": null,
   "id": "8a605182",
   "metadata": {},
   "outputs": [],
   "source": [
    "vacancies_test_1_columns_list = vacancies_test_1.columns.tolist()\n",
    "vacancies_test_1_columns_list"
   ]
  },
  {
   "cell_type": "code",
   "execution_count": null,
   "id": "bc4c841d",
   "metadata": {},
   "outputs": [],
   "source": [
    "vacancies_test_1.head(1)"
   ]
  },
  {
   "cell_type": "code",
   "execution_count": null,
   "id": "c9120e84",
   "metadata": {},
   "outputs": [],
   "source": [
    "# Получим кортеж с именем столбца и содержимым строк для каждой строки нашего датафрейма:\n",
    "for (ColumnName, RowData) in vacancies_test_1.head(1).iteritems():\n",
    "    print('Имя столбца: \\t\\t', ColumnName)\n",
    "    print('Содержимое строки \\t\\t:', RowData.values)"
   ]
  },
  {
   "cell_type": "code",
   "execution_count": null,
   "id": "d513f57d",
   "metadata": {},
   "outputs": [],
   "source": [
    "# сделаем наш датафрейм короче, а то не особо удобно =)\n",
    "df = vacancies_test_1.copy()"
   ]
  },
  {
   "cell_type": "code",
   "execution_count": null,
   "id": "cdc2431d",
   "metadata": {},
   "outputs": [],
   "source": [
    "# https://pandas.pydata.org/docs/reference/api/pandas.DataFrame.equals.html\n",
    "df.equals(vacancies_test_1)"
   ]
  },
  {
   "cell_type": "markdown",
   "id": "fdda3fc5",
   "metadata": {},
   "source": [
    "#### поразбираемся с колонками"
   ]
  },
  {
   "cell_type": "markdown",
   "id": "c4fac908",
   "metadata": {},
   "source": [
    "##### город"
   ]
  },
  {
   "cell_type": "code",
   "execution_count": null,
   "id": "988f0aa1",
   "metadata": {},
   "outputs": [],
   "source": [
    "df.area.iloc[0]"
   ]
  },
  {
   "cell_type": "code",
   "execution_count": null,
   "id": "ed14dbd5",
   "metadata": {},
   "outputs": [],
   "source": [
    "df['city_id'] = df['area'].apply(lambda x: x['id'])\n",
    "df['city'] = df['area'].apply(lambda x: x['name'])\n",
    "df['city_url'] = df['area'].apply(lambda x: x['url'])"
   ]
  },
  {
   "cell_type": "code",
   "execution_count": null,
   "id": "68c9950b",
   "metadata": {},
   "outputs": [],
   "source": [
    "df[['city_id','city','city_url']]"
   ]
  },
  {
   "cell_type": "markdown",
   "id": "7fa90d57",
   "metadata": {},
   "source": [
    "##### зарплата"
   ]
  },
  {
   "cell_type": "code",
   "execution_count": null,
   "id": "9954ad8b",
   "metadata": {},
   "outputs": [],
   "source": [
    "df.salary.iloc[0]"
   ]
  },
  {
   "cell_type": "code",
   "execution_count": null,
   "id": "a32b74c6",
   "metadata": {},
   "outputs": [],
   "source": [
    "df['salary_from'] = df['salary'].apply(lambda x: x['from'])\n",
    "df['salary_to'] = df['salary'].apply(lambda x: x['to'])\n",
    "df['salary_currency'] = df['salary'].apply(lambda x: x['currency'])\n",
    "df['gross'] = df['salary'].apply(lambda x: x['gross'])"
   ]
  },
  {
   "cell_type": "code",
   "execution_count": null,
   "id": "3b0d2ed4",
   "metadata": {},
   "outputs": [],
   "source": [
    "df[['salary_from','salary_to','salary_currency','gross']]"
   ]
  },
  {
   "cell_type": "markdown",
   "id": "d12c2c2e",
   "metadata": {},
   "source": [
    "##### информация о компании"
   ]
  },
  {
   "cell_type": "code",
   "execution_count": null,
   "id": "a8113b6d",
   "metadata": {},
   "outputs": [],
   "source": [
    "df.employer.iloc[0]"
   ]
  },
  {
   "cell_type": "code",
   "execution_count": null,
   "id": "43cf0bff",
   "metadata": {},
   "outputs": [],
   "source": [
    "df['employer_name'] = df['employer'].apply(lambda x: x['name'])"
   ]
  },
  {
   "cell_type": "code",
   "execution_count": null,
   "id": "3ab7d7be",
   "metadata": {},
   "outputs": [],
   "source": [
    "df['employer_id'] = df['employer'].apply(lambda x: x['id'])\n",
    "df['employer_url'] = df['employer'].apply(lambda x: x['alternate_url'])"
   ]
  },
  {
   "cell_type": "code",
   "execution_count": null,
   "id": "1a07aab9",
   "metadata": {},
   "outputs": [],
   "source": [
    "df[['employer_id','employer_name','employer_url']]"
   ]
  },
  {
   "cell_type": "markdown",
   "id": "79e8c64e",
   "metadata": {},
   "source": [
    "##### ВНИМАНИЕ!  Дополнительные текстовые отрывки\n",
    "тут API реализованно так что отдает нам только часть актуальной информации\n",
    "\n",
    "`snippet` (Дополнительные текстовые отрывки)\n",
    "\n",
    "`requirement`\t\n",
    "**Отрывок** из требований по вакансии, если они найдены в тексте описания\n",
    "\n",
    "`responsibility`\t\n",
    "**Отрывок** из обязанностей по вакансии, если они найдены в тексте описания"
   ]
  },
  {
   "cell_type": "code",
   "execution_count": null,
   "id": "b79cb62e",
   "metadata": {},
   "outputs": [],
   "source": [
    "df.snippet.iloc[0]"
   ]
  },
  {
   "cell_type": "code",
   "execution_count": null,
   "id": "26bb3d3e",
   "metadata": {},
   "outputs": [],
   "source": [
    "df['requirement'] = df['snippet'].apply(lambda x: x['requirement'])\n",
    "df['responsibility'] = df['snippet'].apply(lambda x: x['responsibility'])"
   ]
  },
  {
   "cell_type": "code",
   "execution_count": null,
   "id": "67c0ef03",
   "metadata": {},
   "outputs": [],
   "source": [
    "df[['requirement','responsibility']]"
   ]
  },
  {
   "cell_type": "markdown",
   "id": "13cc70e1",
   "metadata": {},
   "source": [
    "##### график работы"
   ]
  },
  {
   "cell_type": "code",
   "execution_count": null,
   "id": "54bd0cdf",
   "metadata": {},
   "outputs": [],
   "source": [
    "df.schedule.iloc[0]"
   ]
  },
  {
   "cell_type": "code",
   "execution_count": null,
   "id": "95ff6e72",
   "metadata": {},
   "outputs": [],
   "source": [
    "df['working_time_id'] = df['schedule'].apply(lambda x: x['id'])\n",
    "df['working_time_name'] = df['schedule'].apply(lambda x: x['name'])"
   ]
  },
  {
   "cell_type": "code",
   "execution_count": null,
   "id": "efbcb050",
   "metadata": {},
   "outputs": [],
   "source": [
    "df[['working_time_id','working_time_name']]"
   ]
  },
  {
   "cell_type": "markdown",
   "id": "391baba2",
   "metadata": {},
   "source": [
    "##### число откликов"
   ]
  },
  {
   "cell_type": "code",
   "execution_count": null,
   "id": "6bb4075d",
   "metadata": {},
   "outputs": [],
   "source": [
    "df.counters.iloc[0]"
   ]
  },
  {
   "cell_type": "code",
   "execution_count": null,
   "id": "5fd0aa02",
   "metadata": {},
   "outputs": [],
   "source": [
    "df['responses_counters'] = df['counters'].apply(lambda x: x['responses'])"
   ]
  },
  {
   "cell_type": "code",
   "execution_count": null,
   "id": "55f41af9",
   "metadata": {},
   "outputs": [],
   "source": [
    "df[['responses_counters']]"
   ]
  },
  {
   "cell_type": "markdown",
   "id": "a3a48229",
   "metadata": {},
   "source": [
    "##### професииональные роли"
   ]
  },
  {
   "cell_type": "code",
   "execution_count": null,
   "id": "b8eb5c9b",
   "metadata": {},
   "outputs": [],
   "source": [
    "df.professional_roles.iloc[0]"
   ]
  },
  {
   "cell_type": "code",
   "execution_count": null,
   "id": "8dc8fde9",
   "metadata": {},
   "outputs": [],
   "source": [
    "df.professional_roles.iloc[0][0]"
   ]
  },
  {
   "cell_type": "code",
   "execution_count": null,
   "id": "e4a32b23",
   "metadata": {},
   "outputs": [],
   "source": [
    "df['professional_roles_id'] = df['professional_roles'].apply(lambda x: x[0]['id'])\n",
    "df['professional_roles_name'] = df['professional_roles'].apply(lambda x: x[0]['name'])"
   ]
  },
  {
   "cell_type": "code",
   "execution_count": null,
   "id": "070b8c77",
   "metadata": {},
   "outputs": [],
   "source": [
    "df[['professional_roles_id','professional_roles_name']]"
   ]
  },
  {
   "cell_type": "markdown",
   "id": "c0b01c0b",
   "metadata": {},
   "source": [
    "#### приведем даты в порядок"
   ]
  },
  {
   "cell_type": "code",
   "execution_count": null,
   "id": "7af8ce23",
   "metadata": {},
   "outputs": [],
   "source": [
    "df.dtypes"
   ]
  },
  {
   "cell_type": "code",
   "execution_count": null,
   "id": "298c9d74",
   "metadata": {},
   "outputs": [],
   "source": [
    "df['published_at'] = pd.to_datetime(df['published_at'])\n",
    "df['created_at'] = pd.to_datetime(df['created_at'])"
   ]
  },
  {
   "cell_type": "code",
   "execution_count": null,
   "id": "5ba4d9f2",
   "metadata": {},
   "outputs": [],
   "source": [
    "df.published_at.dtypes"
   ]
  },
  {
   "cell_type": "code",
   "execution_count": null,
   "id": "3d1960a0",
   "metadata": {},
   "outputs": [],
   "source": [
    "df.published_at.min()"
   ]
  },
  {
   "cell_type": "code",
   "execution_count": null,
   "id": "6dde4f8b",
   "metadata": {},
   "outputs": [],
   "source": [
    "df.published_at.max()"
   ]
  },
  {
   "cell_type": "code",
   "execution_count": null,
   "id": "138e83b1",
   "metadata": {},
   "outputs": [],
   "source": [
    "columns_list_df = df.columns.tolist()\n",
    "columns_list_df"
   ]
  },
  {
   "cell_type": "code",
   "execution_count": null,
   "id": "73a7f509",
   "metadata": {},
   "outputs": [],
   "source": [
    "   df_final =        df[['id',\n",
    "                         'premium',\n",
    "                         'name',\n",
    "                         'department',\n",
    "                         'has_test',\n",
    "                         'response_letter_required',\n",
    "                         #'area',\n",
    "                         #'salary',\n",
    "                         #'type',\n",
    "                         #'address',\n",
    "                         'response_url',\n",
    "                         'sort_point_distance',\n",
    "                         'published_at',\n",
    "                         'created_at',\n",
    "                         'archived',\n",
    "                         'apply_alternate_url',\n",
    "                         'insider_interview',\n",
    "                         'url',\n",
    "                         'adv_response_url',\n",
    "                         'alternate_url',\n",
    "                         #'relations',\n",
    "                         #'employer',\n",
    "                         #'snippet', # вытаскиваем только часть... А надо ли полностью ?\n",
    "                         'contacts',\n",
    "                         #'schedule',\n",
    "                         #'counters',\n",
    "                         'working_days',\n",
    "                         'working_time_intervals',\n",
    "                         'working_time_modes',\n",
    "                         'accept_temporary',\n",
    "                         #'professional_roles',\n",
    "                         'accept_incomplete_resumes',\n",
    "                         'city_id',\n",
    "                         'city',\n",
    "                         'city_url',\n",
    "                         'salary_from',\n",
    "                         'salary_to',\n",
    "                         'salary_currency',\n",
    "                         'gross',\n",
    "                         #'employer_id',\n",
    "                         'employer_name',\n",
    "                         #'employer_url',\n",
    "                         'requirement',\n",
    "                         'responsibility',\n",
    "                         'working_time_id',\n",
    "                         'working_time_name',\n",
    "                         'responses_counters',\n",
    "                         'professional_roles_id',\n",
    "                         'professional_roles_name']].copy()"
   ]
  },
  {
   "cell_type": "code",
   "execution_count": null,
   "id": "c3c16660",
   "metadata": {},
   "outputs": [],
   "source": [
    "# Получим кортеж с именем столбца и содержимым строк для каждой строки нашего датафрейма:\n",
    "for (ColumnName, RowData) in df_final.head(1).iteritems():\n",
    "    print('Имя столбца: \\t\\t', ColumnName)\n",
    "    print('Содержимое строки \\t\\t:', RowData.values)"
   ]
  },
  {
   "cell_type": "markdown",
   "id": "74a17214",
   "metadata": {},
   "source": [
    "#### Сохраним результаты в CSV"
   ]
  },
  {
   "cell_type": "code",
   "execution_count": null,
   "id": "19acbbf1",
   "metadata": {},
   "outputs": [],
   "source": [
    "today"
   ]
  },
  {
   "cell_type": "code",
   "execution_count": null,
   "id": "82f3c492",
   "metadata": {},
   "outputs": [],
   "source": [
    "file_name = '{}_HeadHunter_Data_Upload.csv'\n",
    "file_name"
   ]
  },
  {
   "cell_type": "code",
   "execution_count": null,
   "id": "72ea8071",
   "metadata": {},
   "outputs": [],
   "source": [
    "csv_file_name = file_name.format(today)\n",
    "csv_file_name"
   ]
  },
  {
   "cell_type": "code",
   "execution_count": null,
   "id": "924cc288",
   "metadata": {},
   "outputs": [],
   "source": [
    "df_final.to_csv(csv_file_name, index=False)\n",
    "print('OK! File {} is written.'.format(csv_file_name))"
   ]
  },
  {
   "cell_type": "markdown",
   "id": "98fd7d76",
   "metadata": {},
   "source": [
    "#### Проверим CSV\n"
   ]
  },
  {
   "cell_type": "code",
   "execution_count": null,
   "id": "41be1a5c",
   "metadata": {},
   "outputs": [],
   "source": [
    "file_path = './' + csv_file_name\n",
    "file_path"
   ]
  },
  {
   "cell_type": "code",
   "execution_count": null,
   "id": "be5aea5e",
   "metadata": {},
   "outputs": [],
   "source": [
    "df_read = pd.read_csv(file_path)"
   ]
  },
  {
   "cell_type": "code",
   "execution_count": null,
   "id": "38f18034",
   "metadata": {},
   "outputs": [],
   "source": [
    "df_read"
   ]
  },
  {
   "cell_type": "code",
   "execution_count": null,
   "id": "b35d4398",
   "metadata": {},
   "outputs": [],
   "source": [
    "df_read.info()"
   ]
  },
  {
   "cell_type": "markdown",
   "id": "fc5c36ba",
   "metadata": {},
   "source": [
    "#### Начальный анализ наших данных\n"
   ]
  },
  {
   "cell_type": "code",
   "execution_count": null,
   "id": "1935b376",
   "metadata": {},
   "outputs": [],
   "source": [
    "df_read.describe()"
   ]
  },
  {
   "cell_type": "code",
   "execution_count": null,
   "id": "b8ceb50e",
   "metadata": {},
   "outputs": [],
   "source": [
    "df_read.describe(include=[object]) "
   ]
  },
  {
   "cell_type": "code",
   "execution_count": null,
   "id": "9a837a56",
   "metadata": {},
   "outputs": [],
   "source": [
    "df_read.describe(exclude=[np.number])  "
   ]
  },
  {
   "cell_type": "code",
   "execution_count": null,
   "id": "df2f4647",
   "metadata": {},
   "outputs": [],
   "source": [
    "# самые популярные наиманования вакансий\n",
    "df_read\\\n",
    "    .groupby('name', as_index=False)\\\n",
    "    .agg({'id':'count'})\\\n",
    "    .sort_values('id', ascending = False)\\\n",
    "    .rename(columns={\"name\": \"наименование вакансии\", \n",
    "                     \"id\": \"количество\"})\\\n",
    "    .head(30)"
   ]
  },
  {
   "cell_type": "code",
   "execution_count": null,
   "id": "5149ad25",
   "metadata": {},
   "outputs": [],
   "source": [
    "# Самые популярные по откликами вакансии\n",
    "df_read.sort_values('responses_counters', ascending = False)\\\n",
    "    .head(10)"
   ]
  },
  {
   "cell_type": "code",
   "execution_count": null,
   "id": "c3780837",
   "metadata": {},
   "outputs": [],
   "source": [
    "# выберем тех работодателей кто при отклике ни вакансию просит нас пройти какой либо тест\n",
    "df_read.query('has_test == True')"
   ]
  },
  {
   "cell_type": "code",
   "execution_count": null,
   "id": "07ff954b",
   "metadata": {},
   "outputs": [],
   "source": [
    "# посмотрим ссылки на эти ванансии и просто для интереса глянем на тесты\n",
    "# посмотрим что конкретно интресует компании ???\n",
    "df_read.query('has_test == True').alternate_url\n",
    "#df_read.query('has_test == True').url"
   ]
  },
  {
   "cell_type": "markdown",
   "id": "d1c62a90",
   "metadata": {},
   "source": [
    "## Получение подробных данных по каждой вакансии\n",
    "\n",
    "1. **Просмотр вакансии**\n",
    "\t - `GET /vacancies/{vacancy_id}` где `vacancy_id` – идентификатор вакансии. Вернёт подробную информацию по указанной вакансии.\n",
    "\t - [Github](https://github.com/hhru/api/blob/master/docs/vacancies.md#item) документация\n",
    "\t - [Ссылка на странный сайт](https://speca.io/speca/headhunter-api#methods_group)"
   ]
  },
  {
   "cell_type": "code",
   "execution_count": null,
   "id": "488397cd",
   "metadata": {},
   "outputs": [],
   "source": [
    "# вот тут у нас храняться инливилуальные ID Вакансии из предыдущего запроса поиска по парметрам\n",
    "df_final.id.describe()"
   ]
  },
  {
   "cell_type": "code",
   "execution_count": null,
   "id": "3cec183c",
   "metadata": {},
   "outputs": [],
   "source": [
    "id_list_vacancies = df_final.id.tolist()\n",
    "id_list_vacancies"
   ]
  },
  {
   "cell_type": "code",
   "execution_count": null,
   "id": "6fc1966f",
   "metadata": {},
   "outputs": [],
   "source": [
    "# requests.get('https://api.hh.ru/vacancies/76940963?host=hh.ru').json()"
   ]
  },
  {
   "cell_type": "code",
   "execution_count": null,
   "id": "b64a5464",
   "metadata": {},
   "outputs": [],
   "source": [
    "# for id in id_list_vacancies:\n",
    "#     # формируем адрес запроса\n",
    "#     url =f'https://api.hh.ru/vacancies/{id}?host=hh.ru' \n",
    "#     print(url)"
   ]
  },
  {
   "cell_type": "code",
   "execution_count": null,
   "id": "1adc08a6",
   "metadata": {},
   "outputs": [],
   "source": [
    "# # Получим кортеж с именем столбца и содержимым строк для каждой строки нашего датафрейма:\n",
    "# for (ColumnName, RowData) in df_final.query('id == 76736984').iteritems():\n",
    "#     print('Имя столбца: \\t\\t', ColumnName)\n",
    "#     print('Содержимое строки \\t\\t:', RowData.values)"
   ]
  },
  {
   "cell_type": "markdown",
   "id": "233063a1",
   "metadata": {},
   "source": [
    "### сформируем наш запрос на уникальные вакансии"
   ]
  },
  {
   "cell_type": "code",
   "execution_count": null,
   "id": "18c5f522",
   "metadata": {},
   "outputs": [],
   "source": [
    "url_HH_vacancies"
   ]
  },
  {
   "cell_type": "code",
   "execution_count": null,
   "id": "4e1cce16",
   "metadata": {},
   "outputs": [],
   "source": [
    "# Внимание - выполняется около 8 минут\n",
    "unique_vacancy = pd.DataFrame()\n",
    "\n",
    "for id_vacancy in tqdm(id_list_vacancies):\n",
    "    # формируем адрес запроса\n",
    "    url_HH_unique_vacancy_ID =f'https://api.hh.ru/vacancies/{id_vacancy}?host=hh.ru'\n",
    "    \n",
    "    # запрос по вакансии\n",
    "    request_unique_vacancy_ID = requests.get(url=url_HH_unique_vacancy_ID)\n",
    "    response_unique_vacancy_ID = request_unique_vacancy_ID.json()\n",
    "    \n",
    "    unique_vacancy = pd.concat([unique_vacancy, pd.DataFrame(pd.json_normalize(response_unique_vacancy_ID))])"
   ]
  },
  {
   "cell_type": "code",
   "execution_count": null,
   "id": "9a04f805",
   "metadata": {},
   "outputs": [],
   "source": [
    "response_unique_vacancy_ID.keys()"
   ]
  },
  {
   "cell_type": "code",
   "execution_count": null,
   "id": "d5ab1ca3",
   "metadata": {},
   "outputs": [],
   "source": [
    "unique_vacancy"
   ]
  },
  {
   "cell_type": "code",
   "execution_count": null,
   "id": "10fdf6c6",
   "metadata": {},
   "outputs": [],
   "source": [
    "list(unique_vacancy.columns)\n",
    "# unique_vacancy.columns"
   ]
  },
  {
   "cell_type": "code",
   "execution_count": null,
   "id": "f5393a2a",
   "metadata": {},
   "outputs": [],
   "source": [
    "unique_vacancy.dtypes"
   ]
  },
  {
   "cell_type": "code",
   "execution_count": null,
   "id": "3da6a4b4",
   "metadata": {},
   "outputs": [],
   "source": [
    "unique_vacancy.id.describe()"
   ]
  },
  {
   "cell_type": "code",
   "execution_count": null,
   "id": "6f88023a",
   "metadata": {},
   "outputs": [],
   "source": [
    "unique_vacancy.describe()"
   ]
  },
  {
   "cell_type": "code",
   "execution_count": null,
   "id": "fe3160dd",
   "metadata": {},
   "outputs": [],
   "source": [
    "df_read.describe(include=[object]) "
   ]
  },
  {
   "cell_type": "code",
   "execution_count": null,
   "id": "adc6e340",
   "metadata": {},
   "outputs": [],
   "source": [
    "df_read.describe(exclude=[np.number])  "
   ]
  },
  {
   "cell_type": "code",
   "execution_count": null,
   "id": "56f5de16",
   "metadata": {},
   "outputs": [],
   "source": [
    "# unique_vacancy[['key_skills']]"
   ]
  },
  {
   "cell_type": "code",
   "execution_count": null,
   "id": "6c171ab2",
   "metadata": {},
   "outputs": [],
   "source": [
    "# Получим кортеж с именем столбца и содержимым строк для каждой строки нашего датафрейма:\n",
    "for (ColumnName, RowData) in unique_vacancy.iloc[[5]].iteritems():\n",
    "    print('Имя столбца: \\t\\t', ColumnName)\n",
    "    print('Содержимое строки \\t\\t:', RowData.values)"
   ]
  },
  {
   "cell_type": "markdown",
   "id": "5ce29bdb",
   "metadata": {},
   "source": [
    "#### Распарсим наше описание"
   ]
  },
  {
   "cell_type": "code",
   "execution_count": null,
   "id": "8a5025a8",
   "metadata": {},
   "outputs": [],
   "source": [
    "list(unique_vacancy[['description']].iloc[5])"
   ]
  },
  {
   "cell_type": "code",
   "execution_count": null,
   "id": "953307f0",
   "metadata": {},
   "outputs": [],
   "source": [
    "unique_vacancy['description_new'] = unique_vacancy['description'].apply(lambda x: (re.sub(r'<.*?>', '', str(x))))"
   ]
  },
  {
   "cell_type": "code",
   "execution_count": null,
   "id": "b28575d5",
   "metadata": {},
   "outputs": [],
   "source": [
    "list(unique_vacancy[['description_new']].iloc[5])"
   ]
  },
  {
   "cell_type": "markdown",
   "id": "98cc2798",
   "metadata": {},
   "source": [
    "#### Посмотрим ключевые навыки"
   ]
  },
  {
   "cell_type": "code",
   "execution_count": null,
   "id": "26397ee2",
   "metadata": {},
   "outputs": [],
   "source": [
    "list(unique_vacancy[['key_skills']].iloc[5])"
   ]
  }
 ],
 "metadata": {
  "kernelspec": {
   "display_name": "Python 3 (ipykernel)",
   "language": "python",
   "name": "python3"
  },
  "language_info": {
   "codemirror_mode": {
    "name": "ipython",
    "version": 3
   },
   "file_extension": ".py",
   "mimetype": "text/x-python",
   "name": "python",
   "nbconvert_exporter": "python",
   "pygments_lexer": "ipython3",
   "version": "3.9.13"
  },
  "toc": {
   "base_numbering": 1,
   "nav_menu": {},
   "number_sections": true,
   "sideBar": true,
   "skip_h1_title": false,
   "title_cell": "Table of Contents",
   "title_sidebar": "Contents",
   "toc_cell": false,
   "toc_position": {
    "height": "calc(100% - 180px)",
    "left": "10px",
    "top": "150px",
    "width": "437px"
   },
   "toc_section_display": true,
   "toc_window_display": true
  }
 },
 "nbformat": 4,
 "nbformat_minor": 5
}

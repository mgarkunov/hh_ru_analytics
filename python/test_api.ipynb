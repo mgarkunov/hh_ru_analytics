{
 "cells": [
  {
   "attachments": {},
   "cell_type": "markdown",
   "id": "c00557fa",
   "metadata": {},
   "source": [
    "**ЗАПРОС НА ПОЛУЧЕНИЕ ДАННЫХ О ВАКАНСИЯХ, СОДЕРЖАЩИХ СЛОВО \"АНАЛИТИК\"**\n",
    "\n",
    "1. В ответе приходит словарь с 8-мью ключами: 'items', 'found', 'pages', 'per_page', 'page', 'clusters', 'arguments', 'alternate_url'\n",
    "2.  - items - словарь / отдельные элементы списка вакансий;\n",
    "    - found - общее кол-во найденных вакансий по заданному критерию;\n",
    "    - pages - кол-во элементов в разделе items;\n",
    "    - per_page - значение per_page из передаваемых параметров;\n",
    "    - page - значение page из передаваемых параметров;\n",
    "    - clusters - Возвращать ли кластеры для данного поиска;\n",
    "    - arguments - Возвращать ли описание использованных параметров поиска;\n",
    "    - alternate_url - ссылка на страницу HH с указанным поиском.\n",
    "3. Ключевым в ответе из api служит пункт items - словарь из 31-го ключа: \n",
    "'id', 'premium', 'name', 'department', 'has_test', 'response_letter_required', 'area', 'salary', 'type', 'address', 'response_url', 'sort_point_distance', 'published_at', 'created_at', 'archived', 'apply_alternate_url', 'insider_interview', 'url', 'adv_response_url', 'alternate_url', 'relations', 'employer', 'snippet', 'contacts', 'schedule', 'working_days', 'working_time_intervals', 'working_time_modes', 'accept_temporary', 'professional_roles', 'accept_incomplete_resumes'\n",
    "4. Стоит выделить самые важные для нашего проекта:\n",
    "    - id - уникальный идентификатор вакансии, по которому в дальнейшем мы будем брать полное описание;\n",
    "    - name - полное название вакансии;\n",
    "    - salary - зарплата;\n",
    "    - published_at - дата публикации;\n",
    "    - created_at - дата создания.\n",
    "\n",
    "**ЗАПРОС НА ПОЛУЧЕНИЕ ДАННЫХ О КОНКРЕТНОЙ ВАКАНСИИ**\n",
    "1. В ответе приходит словарь с 47-мью ключами: 'id', 'premium', 'billing_type', 'relations', 'name', 'insider_interview', 'response_letter_required', 'area', 'salary', 'type', 'address', 'allow_messages', 'experience', 'schedule', 'employment', 'department', 'contacts', 'description', 'branded_description', 'vacancy_constructor_template', 'key_skills', 'accept_handicapped', 'accept_kids', 'archived', 'response_url', 'specializations', 'professional_roles', 'code', 'hidden', 'quick_responses_allowed', 'driver_license_types', 'accept_incomplete_resumes', 'employer', 'published_at', 'created_at', 'initial_created_at', 'negotiations_url', 'suitable_resumes_url', 'apply_alternate_url', 'has_test', 'test', 'alternate_url', 'working_days', 'working_time_intervals', 'working_time_modes', 'accept_temporary', 'languages';\n",
    "2. Ключевыми данными для нашего исследования можно считать пункты _description_ и _key\\_skills_"
   ]
  },
  {
   "cell_type": "code",
   "execution_count": 64,
   "id": "23b84b35-c1e2-48e7-b0ee-3bd5f32e96d4",
   "metadata": {},
   "outputs": [],
   "source": [
    "import pandas as pd\n",
    "import numpy as np\n",
    "import requests\n",
    "from datetime import datetime, timedelta\n",
    "import dateparser\n",
    "import json"
   ]
  },
  {
   "cell_type": "markdown",
   "id": "392b5883-7b5a-4dcf-a73e-652771cafcc7",
   "metadata": {},
   "source": [
    "**URL HH**"
   ]
  },
  {
   "cell_type": "code",
   "execution_count": 6,
   "id": "56093c85-1b2c-4ac8-8051-4f0756b4c05c",
   "metadata": {},
   "outputs": [],
   "source": [
    "url_HH = 'https://api.hh.ru/vacancies'"
   ]
  },
  {
   "cell_type": "markdown",
   "id": "e9729c61-6a5d-46a3-8d5d-6a580e7ec3c6",
   "metadata": {},
   "source": [
    "**QUERY PARAMETRS**"
   ]
  },
  {
   "cell_type": "code",
   "execution_count": 7,
   "id": "eb29b173-8e4f-445f-894a-67da7777ee17",
   "metadata": {},
   "outputs": [],
   "source": [
    "query_params = {\n",
    "    'text': 'Аналитик', \n",
    "    'area': 113, \n",
    "    'per_page': 100, \n",
    "    'page': 1, # максимально до 20ти страниц\n",
    "    'date_from': '2023-02-13T00:00:00',\n",
    "    'date_to': '2023-02-13T09:59:59'\n",
    "}"
   ]
  },
  {
   "cell_type": "code",
   "execution_count": 10,
   "id": "d96a5e08-e89b-4fe1-acb0-5d6cd3487857",
   "metadata": {},
   "outputs": [],
   "source": [
    "response = requests.get(url=url_HH, params=query_params).json()"
   ]
  },
  {
   "cell_type": "code",
   "execution_count": 92,
   "id": "bb1eeb3a-e935-4584-9a9d-c08036d13139",
   "metadata": {},
   "outputs": [
    {
     "name": "stdout",
     "output_type": "stream",
     "text": [
      "items\n",
      "found\n",
      "pages\n",
      "per_page\n",
      "page\n",
      "clusters\n",
      "arguments\n",
      "alternate_url\n"
     ]
    }
   ],
   "source": [
    "print(*response.keys(), sep='\\n')"
   ]
  },
  {
   "cell_type": "code",
   "execution_count": 14,
   "id": "6638bc4a-f492-4bb7-963b-b848f9f36b06",
   "metadata": {},
   "outputs": [
    {
     "data": {
      "text/plain": [
       "31"
      ]
     },
     "execution_count": 14,
     "metadata": {},
     "output_type": "execute_result"
    }
   ],
   "source": [
    "len(response['items'][0].keys()) # кол-во полей в разделе items - поле из запроса, которое содержит список вакансий"
   ]
  },
  {
   "cell_type": "code",
   "execution_count": 12,
   "id": "d0d7f171-5f7f-4e43-b284-a657240115e2",
   "metadata": {},
   "outputs": [
    {
     "data": {
      "text/plain": [
       "907"
      ]
     },
     "execution_count": 12,
     "metadata": {},
     "output_type": "execute_result"
    }
   ],
   "source": [
    "response['found'] # параметр, отвечающий за кол-во вакансий в запросе, на его основе в дальнейшем пропишем if condition"
   ]
  },
  {
   "cell_type": "code",
   "execution_count": 90,
   "id": "8f2dd174",
   "metadata": {},
   "outputs": [
    {
     "name": "stdout",
     "output_type": "stream",
     "text": [
      "id\n",
      "premium\n",
      "name\n",
      "department\n",
      "has_test\n",
      "response_letter_required\n",
      "area\n",
      "salary\n",
      "type\n",
      "address\n",
      "response_url\n",
      "sort_point_distance\n",
      "published_at\n",
      "created_at\n",
      "archived\n",
      "apply_alternate_url\n",
      "insider_interview\n",
      "url\n",
      "adv_response_url\n",
      "alternate_url\n",
      "relations\n",
      "employer\n",
      "snippet\n",
      "contacts\n",
      "schedule\n",
      "working_days\n",
      "working_time_intervals\n",
      "working_time_modes\n",
      "accept_temporary\n",
      "professional_roles\n",
      "accept_incomplete_resumes\n"
     ]
    }
   ],
   "source": [
    "print(*response['items'][0].keys(), sep='\\n') # поля, которые содержатся в items"
   ]
  },
  {
   "attachments": {},
   "cell_type": "markdown",
   "id": "9503e3d3",
   "metadata": {},
   "source": [
    "Готовим ссылку на конкретную вакансию"
   ]
  },
  {
   "cell_type": "code",
   "execution_count": 31,
   "id": "8326f562",
   "metadata": {},
   "outputs": [],
   "source": [
    "resume_url = \"https://api.hh.ru/vacancies/\" + response['items'][1]['id']\n",
    "resume_response = requests.get(url=resume_url).json()"
   ]
  },
  {
   "cell_type": "code",
   "execution_count": 23,
   "id": "840c0146",
   "metadata": {},
   "outputs": [
    {
     "data": {
      "text/plain": [
       "47"
      ]
     },
     "execution_count": 23,
     "metadata": {},
     "output_type": "execute_result"
    }
   ],
   "source": [
    "len(resume_response.keys()) # кол-во полей в запросе конкретной вакансии"
   ]
  },
  {
   "cell_type": "code",
   "execution_count": 32,
   "id": "acfba164",
   "metadata": {},
   "outputs": [],
   "source": [
    "# with open(\"2023_02_13_test_resume.json\", 'w') as file:\n",
    "#     json.dump(resume_response, file, indent=4, ensure_ascii=False)"
   ]
  },
  {
   "cell_type": "code",
   "execution_count": 93,
   "id": "d491d509",
   "metadata": {},
   "outputs": [
    {
     "name": "stdout",
     "output_type": "stream",
     "text": [
      "id\n",
      "premium\n",
      "billing_type\n",
      "relations\n",
      "name\n",
      "insider_interview\n",
      "response_letter_required\n",
      "area\n",
      "salary\n",
      "type\n",
      "address\n",
      "allow_messages\n",
      "experience\n",
      "schedule\n",
      "employment\n",
      "department\n",
      "contacts\n",
      "description\n",
      "branded_description\n",
      "vacancy_constructor_template\n",
      "key_skills\n",
      "accept_handicapped\n",
      "accept_kids\n",
      "archived\n",
      "response_url\n",
      "specializations\n",
      "professional_roles\n",
      "code\n",
      "hidden\n",
      "quick_responses_allowed\n",
      "driver_license_types\n",
      "accept_incomplete_resumes\n",
      "employer\n",
      "published_at\n",
      "created_at\n",
      "initial_created_at\n",
      "negotiations_url\n",
      "suitable_resumes_url\n",
      "apply_alternate_url\n",
      "has_test\n",
      "test\n",
      "alternate_url\n",
      "working_days\n",
      "working_time_intervals\n",
      "working_time_modes\n",
      "accept_temporary\n",
      "languages\n"
     ]
    }
   ],
   "source": [
    "print(*resume_response.keys(), sep='\\n')"
   ]
  },
  {
   "cell_type": "code",
   "execution_count": null,
   "id": "b6d235cb",
   "metadata": {},
   "outputs": [],
   "source": []
  }
 ],
 "metadata": {
  "kernelspec": {
   "display_name": "pet_venv",
   "language": "python",
   "name": "python3"
  },
  "language_info": {
   "codemirror_mode": {
    "name": "ipython",
    "version": 3
   },
   "file_extension": ".py",
   "mimetype": "text/x-python",
   "name": "python",
   "nbconvert_exporter": "python",
   "pygments_lexer": "ipython3",
   "version": "3.9.12"
  },
  "vscode": {
   "interpreter": {
    "hash": "23d61b95038355c02fcddc6c42ca86f2ab38ee1563448adf7fd43f02a01c94d9"
   }
  }
 },
 "nbformat": 4,
 "nbformat_minor": 5
}
